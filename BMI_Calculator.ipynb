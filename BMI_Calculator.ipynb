{
  "cells": [
    {
      "cell_type": "markdown",
      "metadata": {
        "id": "1URA_0eEnTKS"
      },
      "source": [
        "BMI Calculator\n",
        "\n",
        "BMI Categories:\n",
        "Underweight = <18.5\n",
        "Normal weight = 18.5–24.9\n",
        "Overweight = 25–29.9\n",
        "Obesity = BMI of 30 or greater"
      ]
    },
    {
      "cell_type": "code",
      "execution_count": null,
      "metadata": {
        "colab": {
          "background_save": true,
          "base_uri": "https://localhost:8080/"
        },
        "id": "5MFUf-F_nGbr",
        "outputId": "f1c7ca2f-1df5-4d47-bb1e-d6fb743b0f49"
      },
      "outputs": [
        {
          "name": "stdout",
          "output_type": "stream",
          "text": [
            "Invalid input. Please enter a numeric value for weight.\n"
          ]
        }
      ],
      "source": [
        "# Input prompts with units\n",
        "name = input(\"Enter your name: \")\n",
        "\n",
        "# Input validation for weight\n",
        "while True:\n",
        "    weight_input = input(\"Enter your weight in lbs: \")\n",
        "    try:\n",
        "        weight = float(weight_input)\n",
        "        if weight <= 0:\n",
        "            print(\"Weight must be a positive number.\")\n",
        "        else:\n",
        "            break\n",
        "    except ValueError:\n",
        "        print(\"Invalid input. Please enter a numeric value for weight.\")\n",
        "\n",
        "# Input validation for height\n",
        "while True:\n",
        "    height_input = input(\"Enter your height in inches: \")\n",
        "    try:\n",
        "        height = float(height_input)\n",
        "        if height <= 0:\n",
        "            print(\"Height must be a positive number.\")\n",
        "        else:\n",
        "            break\n",
        "    except ValueError:\n",
        "        print(\"Invalid input. Please enter a numeric value for height.\")\n",
        "\n",
        "# Calculate BMI and round to 1 decimal place\n",
        "BMI = round((weight * 703) / (height * height), 1)\n",
        "\n",
        "print(\"Your BMI is:\", BMI)\n",
        "\n",
        "# Output messages based on BMI category\n",
        "if BMI < 18.5:\n",
        "    print(name + \", you are underweight.\")\n",
        "elif BMI <= 24.9:\n",
        "    print(name + \", you are of normal weight.\")\n",
        "elif BMI <= 29.9:\n",
        "    print(name + \", you are overweight.\")\n",
        "elif BMI <= 34.9:\n",
        "    print(name + \", you are obese.\")\n",
        "else:\n",
        "    print(name + \", you are morbidly obese.\")\n"
      ]
    },
    {
      "cell_type": "code",
      "execution_count": null,
      "metadata": {
        "id": "CPV7TVLQnGhs"
      },
      "outputs": [],
      "source": []
    },
    {
      "cell_type": "code",
      "execution_count": null,
      "metadata": {
        "id": "xbS62R_qnGkp"
      },
      "outputs": [],
      "source": []
    },
    {
      "cell_type": "code",
      "execution_count": null,
      "metadata": {
        "id": "a6WxFo3KnGnT"
      },
      "outputs": [],
      "source": []
    },
    {
      "cell_type": "code",
      "execution_count": null,
      "metadata": {
        "id": "DFJWlKPPnGqR"
      },
      "outputs": [],
      "source": []
    },
    {
      "cell_type": "code",
      "execution_count": null,
      "metadata": {
        "id": "pnnIQ0NonGtZ"
      },
      "outputs": [],
      "source": []
    },
    {
      "cell_type": "code",
      "execution_count": null,
      "metadata": {
        "id": "b0TkIrcAnGww"
      },
      "outputs": [],
      "source": []
    }
  ],
  "metadata": {
    "colab": {
      "provenance": []
    },
    "kernelspec": {
      "display_name": "Python 3",
      "name": "python3"
    },
    "language_info": {
      "name": "python"
    }
  },
  "nbformat": 4,
  "nbformat_minor": 0
}